{
  "nbformat": 4,
  "nbformat_minor": 0,
  "metadata": {
    "colab": {
      "name": "Copia de image_classification.ipynb",
      "version": "0.3.2",
      "provenance": [],
      "collapsed_sections": []
    },
    "kernelspec": {
      "name": "python3",
      "display_name": "Python 3"
    },
    "accelerator": "GPU"
  },
  "cells": [
    {
      "cell_type": "code",
      "metadata": {
        "id": "4Y6ue9srT4k3",
        "colab_type": "code",
        "colab": {}
      },
      "source": [
        "pip install -q tensorflow"
      ],
      "execution_count": 0,
      "outputs": []
    },
    {
      "cell_type": "code",
      "metadata": {
        "id": "jQk-XTe4VstC",
        "colab_type": "code",
        "colab": {}
      },
      "source": [
        "pip install -q numpy"
      ],
      "execution_count": 0,
      "outputs": []
    },
    {
      "cell_type": "code",
      "metadata": {
        "id": "GdR0fmrIVw0t",
        "colab_type": "code",
        "colab": {}
      },
      "source": [
        "pip install -q scipy"
      ],
      "execution_count": 0,
      "outputs": []
    },
    {
      "cell_type": "code",
      "metadata": {
        "id": "G6HQa-T9V0yi",
        "colab_type": "code",
        "colab": {}
      },
      "source": [
        "pip install -q opencv-python"
      ],
      "execution_count": 0,
      "outputs": []
    },
    {
      "cell_type": "code",
      "metadata": {
        "id": "iJ4X-0CFV3H_",
        "colab_type": "code",
        "colab": {}
      },
      "source": [
        "pip install -q pillow"
      ],
      "execution_count": 0,
      "outputs": []
    },
    {
      "cell_type": "code",
      "metadata": {
        "id": "ebRi14C2V50e",
        "colab_type": "code",
        "colab": {}
      },
      "source": [
        "pip install -q matplotlib"
      ],
      "execution_count": 0,
      "outputs": []
    },
    {
      "cell_type": "code",
      "metadata": {
        "id": "LSeG-yZPV8Dz",
        "colab_type": "code",
        "colab": {}
      },
      "source": [
        "pip install -q h5py"
      ],
      "execution_count": 0,
      "outputs": []
    },
    {
      "cell_type": "code",
      "metadata": {
        "id": "YUZiRh3kV-Kz",
        "colab_type": "code",
        "colab": {}
      },
      "source": [
        "pip install -q keras"
      ],
      "execution_count": 0,
      "outputs": []
    },
    {
      "cell_type": "code",
      "metadata": {
        "id": "dkLtmdTAWCOf",
        "colab_type": "code",
        "colab": {}
      },
      "source": [
        "pip install -q imageai"
      ],
      "execution_count": 0,
      "outputs": []
    },
    {
      "cell_type": "code",
      "metadata": {
        "id": "EvcsdiP-WICt",
        "colab_type": "code",
        "colab": {}
      },
      "source": [
        "from imageai.Prediction.Custom import ModelTraining\n",
        "from imageai.Prediction.Custom import CustomImagePrediction\n",
        "\n",
        "### TRAIN MODEL FUNCTION\n",
        "\n",
        "def TrainModel(files, Classes, Epochs, BatchSize):\n",
        "    #create an instance for de model training\n",
        "    model_trainer = ModelTraining()\n",
        "    #set model to ResNet NN (SqueezeNet, ResNet, InceptionV3 and DenseNet)\n",
        "    model_trainer.setModelTypeAsResNet()\n",
        "    #folder that contains train and test sets\n",
        "    model_trainer.setDataDirectory(files)\n",
        "\n",
        "    '''\n",
        "    train model function\n",
        "    number_objects : number of clases\n",
        "    num_experiments : number of iterations (epochs)\n",
        "    Enhance_data (Optional) : if true, creates modified copies of the images to maximize accuracy (but more process cost)\n",
        "    batch_size: number of images that the model trainer will study at once\n",
        "    Show_network_summary (Optional) : if true, shows the structure of the model type\n",
        "    '''\n",
        "    model_trainer.trainModel(num_objects=Classes, num_experiments=Epochs, enhance_data=True, batch_size=BatchSize, show_network_summary=True)\n",
        "\n",
        "### CLASSIFIER FUNCTION\n",
        "\n",
        "def ImageClassifier(Image, ModelFile, JsonFile, Classes):\n",
        "    execution_path = os.getcwd() #get model path\n",
        "    prediction = CustomImagePrediction() #create instance for the prediction model\n",
        "    prediction.setModelTypeAsResNet() #set classification model to ResNet\n",
        "    prediction.setModelPath(ModelFile) #loads best model trained\n",
        "    prediction.setJsonPath(JsonFile) #loads best model trained\n",
        "    prediction.loadModel(num_objects=Classes) #Loads best model trained\n",
        "    predictions, probabilities = prediction.predictImage(Image, result_count=3) #classify the image\n",
        "    return predictions, probabilities"
      ],
      "execution_count": 0,
      "outputs": []
    },
    {
      "cell_type": "code",
      "metadata": {
        "colab_type": "code",
        "id": "ljK9342vbgP6",
        "colab": {}
      },
      "source": [
        "from google.colab import drive\n",
        "drive.mount('/gdrive')\n",
        "import os\n",
        "\n",
        "# Train Model\n",
        "Classes = 2 #number of classes\n",
        "Epochs = 250 #humber of epochs\n",
        "BatchSize = 30 #batch size\n",
        "files = \"/gdrive/My Drive/My Project/ImagesFolder\"\n",
        "\n",
        "TrainModel(files, Classes, Epochs, BatchSize)"
      ],
      "execution_count": 0,
      "outputs": []
    },
    {
      "cell_type": "code",
      "metadata": {
        "id": "_HI7yBWUsz52",
        "colab_type": "code",
        "colab": {}
      },
      "source": [
        "# Classify Image\n",
        "ModelFile = \"/pathtomodel/model_ex-144_acc-0.827778.h5\"\n",
        "JsonFile = \"/pathtojson/model_class.json\"\n",
        "Classes = 2\n",
        "#Image = \"image.jpg\"\n",
        "#result = ImageClassifier(Image, ModelFile, JsonFile, Classes)\n",
        "#print(result)\n",
        "\n",
        "from os import listdir\n",
        "from os.path import isfile, join\n",
        "import os\n",
        "tfp = '/pat hto test images/' #Test Files Path\n",
        "files = [f for f in listdir(tfp) if isfile(join(tfp, f))]\n",
        "\n",
        "for file in files:\n",
        "    result = ImageClassifier(str(tfp+file), ModelFile, JsonFile, Classes)\n",
        "    print(str(file)+\": \"+str(result))"
      ],
      "execution_count": 0,
      "outputs": []
    }
  ]
}